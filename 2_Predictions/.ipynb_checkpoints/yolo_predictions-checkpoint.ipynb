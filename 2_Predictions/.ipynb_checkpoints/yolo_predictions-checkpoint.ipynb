{
 "cells": [
  {
   "cell_type": "code",
   "execution_count": 65,
   "id": "c519bbe1-6806-4563-919d-c6bb4fdd3940",
   "metadata": {},
   "outputs": [],
   "source": [
    "import cv2\n",
    "import numpy as np\n",
    "import os\n",
    "import yaml\n",
    "from yaml.loader import SafeLoader"
   ]
  },
  {
   "cell_type": "code",
   "execution_count": 66,
   "id": "0a926fc1-7271-405b-ae86-5cae08463071",
   "metadata": {},
   "outputs": [
    {
     "name": "stdout",
     "output_type": "stream",
     "text": [
      "['Tiger', 'Elephant', 'Deer', 'Rhinoceros']\n"
     ]
    }
   ],
   "source": [
    "with open('data.yaml',mode='r') as f:\n",
    "    data_yaml = yaml.load(f,Loader=SafeLoader)\n",
    "\n",
    "labels = data_yaml['names']\n",
    "print(labels)"
   ]
  },
  {
   "cell_type": "code",
   "execution_count": 67,
   "id": "de3e20d7-e42b-48c1-81b2-7a0a8e035fec",
   "metadata": {},
   "outputs": [],
   "source": [
    "yolo = cv2.dnn.readNetFromONNX('./Model/weights/best.onnx')\n",
    "yolo.setPreferableBackend(cv2.dnn.DNN_BACKEND_OPENCV)\n",
    "yolo.setPreferableTarget(cv2.dnn.DNN_TARGET_CPU)"
   ]
  },
  {
   "cell_type": "code",
   "execution_count": 81,
   "id": "b3b02197-11ff-4ea6-89f5-51ef02502c40",
   "metadata": {},
   "outputs": [],
   "source": [
    "img = cv2.imread('./tiger.jpg')\n",
    "image = img.copy()\n",
    "\n",
    "row, col, d = image.shape\n",
    "\n",
    "max_rc = max(row,col)\n",
    "input_image = np.zeros((max_rc,max_rc,3),dtype=np.uint8)\n",
    "input_image[0:row,0:col] = image\n",
    "INPUT_WH_YOLO = 640\n",
    "blob = cv2.dnn.blobFromImage(input_image,1/255,(INPUT_WH_YOLO,INPUT_WH_YOLO),swapRB=True,crop=False)\n",
    "yolo.setInput(blob)\n",
    "preds = yolo.forward()\n",
    "\n"
   ]
  },
  {
   "cell_type": "code",
   "execution_count": 82,
   "id": "e57057f5-2137-4889-b5ca-437d6b446652",
   "metadata": {},
   "outputs": [
    {
     "name": "stdout",
     "output_type": "stream",
     "text": [
      "(1, 25200, 9)\n"
     ]
    }
   ],
   "source": [
    "print(preds.shape)"
   ]
  },
  {
   "cell_type": "code",
   "execution_count": 83,
   "id": "e71a2e9e-f146-4e9e-a549-852dd8c83e23",
   "metadata": {},
   "outputs": [],
   "source": [
    "detections = preds[0]\n",
    "boxes = []\n",
    "confidences = []\n",
    "classes = []\n",
    "\n",
    "image_w, image_h = input_image.shape[:2]\n",
    "x_factor = image_w/INPUT_WH_YOLO\n",
    "y_factor = image_h/INPUT_WH_YOLO\n",
    "\n",
    "for i in range (len(detections)):\n",
    "    row = detections[i]\n",
    "    confidence = row[4]\n",
    "    if confidence>0.4:\n",
    "        class_score = row[5:].max()\n",
    "        class_id = row[5:].argmax()\n",
    "\n",
    "        if class_score>0.25:\n",
    "            cx, cy, w, h = row[0:4]\n",
    "            left = int((cx-0.5*w)*x_factor)\n",
    "            top = int((cy-0.5*h)*y_factor)\n",
    "            width = int(w*x_factor)\n",
    "            height = int(h*y_factor)\n",
    "            box = np.array([left,top,width,height])\n",
    "\n",
    "            confidences.append(confidence)\n",
    "            boxes.append(box)\n",
    "            classes.append(class_id)\n",
    "boxes_np = np.array(boxes).tolist()\n",
    "confidences_np = np.array(confidences).tolist()\n",
    "\n",
    "index = cv2.dnn.NMSBoxes(boxes_np,confidences_np,0.25,0.45).flatten()"
   ]
  },
  {
   "cell_type": "code",
   "execution_count": 84,
   "id": "19141d61-4e5b-4709-b226-c123accbd01d",
   "metadata": {},
   "outputs": [
    {
     "data": {
      "text/plain": [
       "1"
      ]
     },
     "execution_count": 84,
     "metadata": {},
     "output_type": "execute_result"
    }
   ],
   "source": [
    "len(index)\n"
   ]
  },
  {
   "cell_type": "code",
   "execution_count": 85,
   "id": "0fded3e8-64b3-4ead-aba6-cfdf1fbf0974",
   "metadata": {},
   "outputs": [],
   "source": [
    "for ind in index:\n",
    "    x,y,w,h = boxes_np[ind]\n",
    "    bb_conf = int(confidences_np[ind]*100)\n",
    "    classes_id = classes[ind]\n",
    "    class_name = labels[classes_id]\n",
    "\n",
    "    text = f'{class_name}:{bb_conf}%'\n",
    "\n",
    "    cv2.rectangle(image,(x,y),(x+w,y+h),(0,255,0),2)\n",
    "    cv2.rectangle(image,(x,y-30),(x+w,y),(255,255,255),-1)\n",
    "    \n",
    "    cv2.putText(image,text,(x,y-10),cv2.FONT_HERSHEY_PLAIN,0.7,(0,0,0),1)"
   ]
  },
  {
   "cell_type": "code",
   "execution_count": 86,
   "id": "333d5833-891b-4f9b-a876-f02c2d972660",
   "metadata": {},
   "outputs": [],
   "source": [
    "cv2.imshow('Original',img)\n",
    "cv2.imshow('yolo_prediction',image)\n",
    "cv2.waitKey(0)\n",
    "cv2.destroyAllWindows()"
   ]
  },
  {
   "cell_type": "code",
   "execution_count": null,
   "id": "c01192bb-504a-4860-bece-43e313b140cf",
   "metadata": {},
   "outputs": [],
   "source": []
  }
 ],
 "metadata": {
  "kernelspec": {
   "display_name": "Python 3 (ipykernel)",
   "language": "python",
   "name": "python3"
  },
  "language_info": {
   "codemirror_mode": {
    "name": "ipython",
    "version": 3
   },
   "file_extension": ".py",
   "mimetype": "text/x-python",
   "name": "python",
   "nbconvert_exporter": "python",
   "pygments_lexer": "ipython3",
   "version": "3.9.7"
  }
 },
 "nbformat": 4,
 "nbformat_minor": 5
}
