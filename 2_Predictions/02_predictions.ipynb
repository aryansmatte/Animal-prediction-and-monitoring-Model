{
 "cells": [
  {
   "cell_type": "code",
   "execution_count": 4,
   "id": "1837abc5-ef9d-450b-b9a6-f10d6ce95a17",
   "metadata": {},
   "outputs": [],
   "source": [
    "import cv2\n",
    "from yolo_predictions import YOLO_Pred"
   ]
  },
  {
   "cell_type": "code",
   "execution_count": 5,
   "id": "6af09f89-0b2a-41e7-8167-d41e21e8c0c0",
   "metadata": {},
   "outputs": [],
   "source": [
    "yolo = YOLO_Pred('./Model/weights/best.onnx','data.yaml')"
   ]
  },
  {
   "cell_type": "code",
   "execution_count": null,
   "id": "04f091fe-2067-4434-b0e9-e50d5a4dbd1e",
   "metadata": {},
   "outputs": [],
   "source": [
    "img = cv2.imread('./AdobeStock_818478123_Preview.jpeg')\n",
    "\n",
    "cv2.imshow('img', img)\n",
    "cv2.waitKey(0)\n",
    "cv2.destroyAllWindows()\n"
   ]
  },
  {
   "cell_type": "code",
   "execution_count": null,
   "id": "6057278a-798b-4181-9385-c3817ec0fe1b",
   "metadata": {},
   "outputs": [],
   "source": [
    "img_pred = yolo.Predictions(img)"
   ]
  },
  {
   "cell_type": "code",
   "execution_count": null,
   "id": "acfab44d-679e-412d-9584-ed59d9dc4c99",
   "metadata": {},
   "outputs": [],
   "source": [
    "cv2.imshow('prediction image',img_pred)\n",
    "cv2.waitKey(0)\n",
    "cv2.destroyAllWindows()"
   ]
  },
  {
   "cell_type": "code",
   "execution_count": null,
   "id": "ff8b1d2a-2f80-4fbc-91c0-d4a25cb19db3",
   "metadata": {},
   "outputs": [],
   "source": []
  },
  {
   "cell_type": "code",
   "execution_count": null,
   "id": "31f99994-f9b8-4990-af4f-e183dc3edced",
   "metadata": {},
   "outputs": [],
   "source": []
  },
  {
   "cell_type": "code",
   "execution_count": null,
   "id": "669dcfb0-a025-4bce-8e8b-c1b3e212c01f",
   "metadata": {},
   "outputs": [],
   "source": [
    "#Real Time Detection\n",
    "\n",
    "cap = cv2.VideoCapture('2835528-hd_1920_1080_25fps.mp4')\n",
    "\n",
    "while True:\n",
    "    ret, frame = cap.read()\n",
    "    if ret == False:\n",
    "        print('Unable to read video')\n",
    "        break\n",
    "    pred_image = yolo.predictions(frame)\n",
    "    cv2.imshow('YOLO',pred_image)\n",
    "    if cv2.waitKey(1) == 27:\n",
    "        break\n",
    "cv2.destroyAllWindows()\n",
    "cap.release()"
   ]
  },
  {
   "cell_type": "code",
   "execution_count": null,
   "id": "027c4cc5-8483-4a48-9d3b-40ec54c7762c",
   "metadata": {},
   "outputs": [],
   "source": []
  },
  {
   "cell_type": "code",
   "execution_count": null,
   "id": "675d56fe-b0ff-44fa-931c-b66a3941c2f1",
   "metadata": {},
   "outputs": [],
   "source": []
  }
 ],
 "metadata": {
  "kernelspec": {
   "display_name": "Python 3 (ipykernel)",
   "language": "python",
   "name": "python3"
  },
  "language_info": {
   "codemirror_mode": {
    "name": "ipython",
    "version": 3
   },
   "file_extension": ".py",
   "mimetype": "text/x-python",
   "name": "python",
   "nbconvert_exporter": "python",
   "pygments_lexer": "ipython3",
   "version": "3.9.7"
  }
 },
 "nbformat": 4,
 "nbformat_minor": 5
}
